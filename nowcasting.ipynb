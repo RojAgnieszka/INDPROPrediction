{
 "cells": [
  {
   "attachments": {},
   "cell_type": "markdown",
   "metadata": {},
   "source": [
    "# Prediction of the INDPRO index"
   ]
  },
  {
   "attachments": {},
   "cell_type": "markdown",
   "metadata": {},
   "source": [
    "## Library import"
   ]
  },
  {
   "cell_type": "code",
   "execution_count": 38,
   "metadata": {},
   "outputs": [],
   "source": [
    "import numpy as np\n",
    "import pandas as pd\n",
    "import seaborn as sns\n",
    "from matplotlib import pyplot as plt\n",
    "\n",
    "from sklearn.model_selection import train_test_split\n",
    "from sklearn.metrics import mean_absolute_error, mean_squared_error, r2_score\n",
    "from sklearn.linear_model import LinearRegression\n",
    "from sklearn.tree import DecisionTreeRegressor\n",
    "from sklearn.ensemble import RandomForestRegressor, GradientBoostingRegressor\n",
    "from xgboost import XGBRegressor\n",
    "from sklearn.model_selection import cross_val_score\n",
    "import joblib"
   ]
  },
  {
   "cell_type": "code",
   "execution_count": 2,
   "metadata": {},
   "outputs": [],
   "source": [
    "import warnings\n",
    "warnings.filterwarnings('ignore')"
   ]
  },
  {
   "attachments": {},
   "cell_type": "markdown",
   "metadata": {},
   "source": [
    "## Data import"
   ]
  },
  {
   "cell_type": "code",
   "execution_count": 3,
   "metadata": {},
   "outputs": [],
   "source": [
    "df = pd.read_csv('case.csv')"
   ]
  },
  {
   "attachments": {},
   "cell_type": "markdown",
   "metadata": {},
   "source": [
    "# Dataset analysis"
   ]
  },
  {
   "cell_type": "code",
   "execution_count": 4,
   "metadata": {},
   "outputs": [
    {
     "data": {
      "text/html": [
       "<div>\n",
       "<style scoped>\n",
       "    .dataframe tbody tr th:only-of-type {\n",
       "        vertical-align: middle;\n",
       "    }\n",
       "\n",
       "    .dataframe tbody tr th {\n",
       "        vertical-align: top;\n",
       "    }\n",
       "\n",
       "    .dataframe thead th {\n",
       "        text-align: right;\n",
       "    }\n",
       "</style>\n",
       "<table border=\"1\" class=\"dataframe\">\n",
       "  <thead>\n",
       "    <tr style=\"text-align: right;\">\n",
       "      <th></th>\n",
       "      <th>y</th>\n",
       "      <th>x1</th>\n",
       "      <th>x2</th>\n",
       "      <th>x3</th>\n",
       "      <th>x4</th>\n",
       "      <th>x5</th>\n",
       "    </tr>\n",
       "  </thead>\n",
       "  <tbody>\n",
       "    <tr>\n",
       "      <th>0</th>\n",
       "      <td>NaN</td>\n",
       "      <td>2.456</td>\n",
       "      <td>4.00</td>\n",
       "      <td>1386.96</td>\n",
       "      <td>6.4</td>\n",
       "      <td>406426</td>\n",
       "    </tr>\n",
       "    <tr>\n",
       "      <th>1</th>\n",
       "      <td>104.7474</td>\n",
       "      <td>2.837</td>\n",
       "      <td>4.04</td>\n",
       "      <td>1462.59</td>\n",
       "      <td>4.4</td>\n",
       "      <td>405948</td>\n",
       "    </tr>\n",
       "    <tr>\n",
       "      <th>2</th>\n",
       "      <td>104.8129</td>\n",
       "      <td>2.578</td>\n",
       "      <td>3.56</td>\n",
       "      <td>1736.47</td>\n",
       "      <td>4.6</td>\n",
       "      <td>405466</td>\n",
       "    </tr>\n",
       "    <tr>\n",
       "      <th>3</th>\n",
       "      <td>104.4135</td>\n",
       "      <td>2.793</td>\n",
       "      <td>3.13</td>\n",
       "      <td>1688.85</td>\n",
       "      <td>18.0</td>\n",
       "      <td>403957</td>\n",
       "    </tr>\n",
       "    <tr>\n",
       "      <th>4</th>\n",
       "      <td>104.4852</td>\n",
       "      <td>3.283</td>\n",
       "      <td>3.10</td>\n",
       "      <td>1822.57</td>\n",
       "      <td>4.4</td>\n",
       "      <td>400415</td>\n",
       "    </tr>\n",
       "    <tr>\n",
       "      <th>5</th>\n",
       "      <td>103.9464</td>\n",
       "      <td>4.049</td>\n",
       "      <td>3.25</td>\n",
       "      <td>1824.05</td>\n",
       "      <td>11.7</td>\n",
       "      <td>394222</td>\n",
       "    </tr>\n",
       "    <tr>\n",
       "      <th>6</th>\n",
       "      <td>104.1646</td>\n",
       "      <td>3.750</td>\n",
       "      <td>3.07</td>\n",
       "      <td>2164.81</td>\n",
       "      <td>9.6</td>\n",
       "      <td>385212</td>\n",
       "    </tr>\n",
       "    <tr>\n",
       "      <th>7</th>\n",
       "      <td>104.2709</td>\n",
       "      <td>3.180</td>\n",
       "      <td>2.81</td>\n",
       "      <td>1967.01</td>\n",
       "      <td>19.9</td>\n",
       "      <td>374527</td>\n",
       "    </tr>\n",
       "    <tr>\n",
       "      <th>8</th>\n",
       "      <td>103.5717</td>\n",
       "      <td>3.197</td>\n",
       "      <td>2.41</td>\n",
       "      <td>2224.28</td>\n",
       "      <td>24.8</td>\n",
       "      <td>363887</td>\n",
       "    </tr>\n",
       "    <tr>\n",
       "      <th>9</th>\n",
       "      <td>102.8987</td>\n",
       "      <td>2.648</td>\n",
       "      <td>2.25</td>\n",
       "      <td>2286.50</td>\n",
       "      <td>21.5</td>\n",
       "      <td>354222</td>\n",
       "    </tr>\n",
       "  </tbody>\n",
       "</table>\n",
       "</div>"
      ],
      "text/plain": [
       "          y     x1    x2       x3    x4      x5\n",
       "0       NaN  2.456  4.00  1386.96   6.4  406426\n",
       "1  104.7474  2.837  4.04  1462.59   4.4  405948\n",
       "2  104.8129  2.578  3.56  1736.47   4.6  405466\n",
       "3  104.4135  2.793  3.13  1688.85  18.0  403957\n",
       "4  104.4852  3.283  3.10  1822.57   4.4  400415\n",
       "5  103.9464  4.049  3.25  1824.05  11.7  394222\n",
       "6  104.1646  3.750  3.07  2164.81   9.6  385212\n",
       "7  104.2709  3.180  2.81  1967.01  19.9  374527\n",
       "8  103.5717  3.197  2.41  2224.28  24.8  363887\n",
       "9  102.8987  2.648  2.25  2286.50  21.5  354222"
      ]
     },
     "execution_count": 4,
     "metadata": {},
     "output_type": "execute_result"
    }
   ],
   "source": [
    "df.head(10)"
   ]
  },
  {
   "cell_type": "code",
   "execution_count": 5,
   "metadata": {},
   "outputs": [
    {
     "data": {
      "text/html": [
       "<div>\n",
       "<style scoped>\n",
       "    .dataframe tbody tr th:only-of-type {\n",
       "        vertical-align: middle;\n",
       "    }\n",
       "\n",
       "    .dataframe tbody tr th {\n",
       "        vertical-align: top;\n",
       "    }\n",
       "\n",
       "    .dataframe thead th {\n",
       "        text-align: right;\n",
       "    }\n",
       "</style>\n",
       "<table border=\"1\" class=\"dataframe\">\n",
       "  <thead>\n",
       "    <tr style=\"text-align: right;\">\n",
       "      <th></th>\n",
       "      <th>y</th>\n",
       "      <th>x1</th>\n",
       "      <th>x2</th>\n",
       "      <th>x3</th>\n",
       "      <th>x4</th>\n",
       "      <th>x5</th>\n",
       "    </tr>\n",
       "  </thead>\n",
       "  <tbody>\n",
       "    <tr>\n",
       "      <th>265</th>\n",
       "      <td>92.8361</td>\n",
       "      <td>0.879</td>\n",
       "      <td>5.80</td>\n",
       "      <td>1952.0</td>\n",
       "      <td>23.7</td>\n",
       "      <td>120652</td>\n",
       "    </tr>\n",
       "    <tr>\n",
       "      <th>266</th>\n",
       "      <td>93.1547</td>\n",
       "      <td>0.914</td>\n",
       "      <td>5.83</td>\n",
       "      <td>1903.0</td>\n",
       "      <td>31.7</td>\n",
       "      <td>119957</td>\n",
       "    </tr>\n",
       "    <tr>\n",
       "      <th>267</th>\n",
       "      <td>92.7900</td>\n",
       "      <td>0.850</td>\n",
       "      <td>5.72</td>\n",
       "      <td>2023.1</td>\n",
       "      <td>23.0</td>\n",
       "      <td>119275</td>\n",
       "    </tr>\n",
       "    <tr>\n",
       "      <th>268</th>\n",
       "      <td>93.0400</td>\n",
       "      <td>0.829</td>\n",
       "      <td>5.85</td>\n",
       "      <td>2092.8</td>\n",
       "      <td>25.2</td>\n",
       "      <td>118606</td>\n",
       "    </tr>\n",
       "    <tr>\n",
       "      <th>269</th>\n",
       "      <td>93.2168</td>\n",
       "      <td>0.959</td>\n",
       "      <td>5.93</td>\n",
       "      <td>2008.0</td>\n",
       "      <td>12.4</td>\n",
       "      <td>117956</td>\n",
       "    </tr>\n",
       "    <tr>\n",
       "      <th>270</th>\n",
       "      <td>93.1620</td>\n",
       "      <td>0.896</td>\n",
       "      <td>6.15</td>\n",
       "      <td>2209.9</td>\n",
       "      <td>20.9</td>\n",
       "      <td>117295</td>\n",
       "    </tr>\n",
       "    <tr>\n",
       "      <th>271</th>\n",
       "      <td>92.8872</td>\n",
       "      <td>0.732</td>\n",
       "      <td>5.85</td>\n",
       "      <td>2391.2</td>\n",
       "      <td>14.7</td>\n",
       "      <td>116631</td>\n",
       "    </tr>\n",
       "    <tr>\n",
       "      <th>272</th>\n",
       "      <td>92.3118</td>\n",
       "      <td>0.857</td>\n",
       "      <td>6.05</td>\n",
       "      <td>1946.3</td>\n",
       "      <td>19.4</td>\n",
       "      <td>115932</td>\n",
       "    </tr>\n",
       "    <tr>\n",
       "      <th>273</th>\n",
       "      <td>91.9626</td>\n",
       "      <td>0.819</td>\n",
       "      <td>6.23</td>\n",
       "      <td>1852.9</td>\n",
       "      <td>37.9</td>\n",
       "      <td>115573</td>\n",
       "    </tr>\n",
       "    <tr>\n",
       "      <th>274</th>\n",
       "      <td>91.6261</td>\n",
       "      <td>0.695</td>\n",
       "      <td>6.63</td>\n",
       "      <td>1570.9</td>\n",
       "      <td>22.6</td>\n",
       "      <td>115232</td>\n",
       "    </tr>\n",
       "  </tbody>\n",
       "</table>\n",
       "</div>"
      ],
      "text/plain": [
       "           y     x1    x2      x3    x4      x5\n",
       "265  92.8361  0.879  5.80  1952.0  23.7  120652\n",
       "266  93.1547  0.914  5.83  1903.0  31.7  119957\n",
       "267  92.7900  0.850  5.72  2023.1  23.0  119275\n",
       "268  93.0400  0.829  5.85  2092.8  25.2  118606\n",
       "269  93.2168  0.959  5.93  2008.0  12.4  117956\n",
       "270  93.1620  0.896  6.15  2209.9  20.9  117295\n",
       "271  92.8872  0.732  5.85  2391.2  14.7  116631\n",
       "272  92.3118  0.857  6.05  1946.3  19.4  115932\n",
       "273  91.9626  0.819  6.23  1852.9  37.9  115573\n",
       "274  91.6261  0.695  6.63  1570.9  22.6  115232"
      ]
     },
     "execution_count": 5,
     "metadata": {},
     "output_type": "execute_result"
    }
   ],
   "source": [
    "df.tail(10)"
   ]
  },
  {
   "cell_type": "code",
   "execution_count": 6,
   "metadata": {},
   "outputs": [
    {
     "name": "stdout",
     "output_type": "stream",
     "text": [
      "<class 'pandas.core.frame.DataFrame'>\n",
      "RangeIndex: 275 entries, 0 to 274\n",
      "Data columns (total 6 columns):\n",
      " #   Column  Non-Null Count  Dtype  \n",
      "---  ------  --------------  -----  \n",
      " 0   y       274 non-null    float64\n",
      " 1   x1      275 non-null    float64\n",
      " 2   x2      275 non-null    float64\n",
      " 3   x3      275 non-null    float64\n",
      " 4   x4      275 non-null    float64\n",
      " 5   x5      275 non-null    int64  \n",
      "dtypes: float64(5), int64(1)\n",
      "memory usage: 13.0 KB\n"
     ]
    }
   ],
   "source": [
    "df.info()"
   ]
  },
  {
   "cell_type": "code",
   "execution_count": 7,
   "metadata": {},
   "outputs": [
    {
     "data": {
      "text/html": [
       "<div>\n",
       "<style scoped>\n",
       "    .dataframe tbody tr th:only-of-type {\n",
       "        vertical-align: middle;\n",
       "    }\n",
       "\n",
       "    .dataframe tbody tr th {\n",
       "        vertical-align: top;\n",
       "    }\n",
       "\n",
       "    .dataframe thead th {\n",
       "        text-align: right;\n",
       "    }\n",
       "</style>\n",
       "<table border=\"1\" class=\"dataframe\">\n",
       "  <thead>\n",
       "    <tr style=\"text-align: right;\">\n",
       "      <th></th>\n",
       "      <th>y</th>\n",
       "      <th>x1</th>\n",
       "      <th>x2</th>\n",
       "      <th>x3</th>\n",
       "      <th>x4</th>\n",
       "      <th>x5</th>\n",
       "    </tr>\n",
       "  </thead>\n",
       "  <tbody>\n",
       "    <tr>\n",
       "      <th>count</th>\n",
       "      <td>274.000000</td>\n",
       "      <td>275.000000</td>\n",
       "      <td>275.000000</td>\n",
       "      <td>275.000000</td>\n",
       "      <td>275.000000</td>\n",
       "      <td>275.000000</td>\n",
       "    </tr>\n",
       "    <tr>\n",
       "      <th>mean</th>\n",
       "      <td>96.864250</td>\n",
       "      <td>1.775498</td>\n",
       "      <td>3.842655</td>\n",
       "      <td>2169.204364</td>\n",
       "      <td>18.167636</td>\n",
       "      <td>202433.625455</td>\n",
       "    </tr>\n",
       "    <tr>\n",
       "      <th>std</th>\n",
       "      <td>4.975902</td>\n",
       "      <td>0.734485</td>\n",
       "      <td>1.219188</td>\n",
       "      <td>562.837890</td>\n",
       "      <td>10.934924</td>\n",
       "      <td>62477.509237</td>\n",
       "    </tr>\n",
       "    <tr>\n",
       "      <th>min</th>\n",
       "      <td>84.727700</td>\n",
       "      <td>0.501000</td>\n",
       "      <td>1.270000</td>\n",
       "      <td>1017.800000</td>\n",
       "      <td>-18.600000</td>\n",
       "      <td>115232.000000</td>\n",
       "    </tr>\n",
       "    <tr>\n",
       "      <th>25%</th>\n",
       "      <td>92.801525</td>\n",
       "      <td>1.199500</td>\n",
       "      <td>2.895000</td>\n",
       "      <td>1780.335000</td>\n",
       "      <td>11.050000</td>\n",
       "      <td>152395.000000</td>\n",
       "    </tr>\n",
       "    <tr>\n",
       "      <th>50%</th>\n",
       "      <td>98.201700</td>\n",
       "      <td>1.702000</td>\n",
       "      <td>3.790000</td>\n",
       "      <td>2233.370000</td>\n",
       "      <td>18.900000</td>\n",
       "      <td>190174.000000</td>\n",
       "    </tr>\n",
       "    <tr>\n",
       "      <th>75%</th>\n",
       "      <td>101.001500</td>\n",
       "      <td>2.305000</td>\n",
       "      <td>4.850000</td>\n",
       "      <td>2438.665000</td>\n",
       "      <td>25.450000</td>\n",
       "      <td>243584.500000</td>\n",
       "    </tr>\n",
       "    <tr>\n",
       "      <th>max</th>\n",
       "      <td>104.812900</td>\n",
       "      <td>4.049000</td>\n",
       "      <td>6.630000</td>\n",
       "      <td>3812.550000</td>\n",
       "      <td>41.200000</td>\n",
       "      <td>406426.000000</td>\n",
       "    </tr>\n",
       "  </tbody>\n",
       "</table>\n",
       "</div>"
      ],
      "text/plain": [
       "                y          x1          x2           x3          x4  \\\n",
       "count  274.000000  275.000000  275.000000   275.000000  275.000000   \n",
       "mean    96.864250    1.775498    3.842655  2169.204364   18.167636   \n",
       "std      4.975902    0.734485    1.219188   562.837890   10.934924   \n",
       "min     84.727700    0.501000    1.270000  1017.800000  -18.600000   \n",
       "25%     92.801525    1.199500    2.895000  1780.335000   11.050000   \n",
       "50%     98.201700    1.702000    3.790000  2233.370000   18.900000   \n",
       "75%    101.001500    2.305000    4.850000  2438.665000   25.450000   \n",
       "max    104.812900    4.049000    6.630000  3812.550000   41.200000   \n",
       "\n",
       "                  x5  \n",
       "count     275.000000  \n",
       "mean   202433.625455  \n",
       "std     62477.509237  \n",
       "min    115232.000000  \n",
       "25%    152395.000000  \n",
       "50%    190174.000000  \n",
       "75%    243584.500000  \n",
       "max    406426.000000  "
      ]
     },
     "execution_count": 7,
     "metadata": {},
     "output_type": "execute_result"
    }
   ],
   "source": [
    "df.describe()"
   ]
  },
  {
   "cell_type": "code",
   "execution_count": 8,
   "metadata": {},
   "outputs": [
    {
     "data": {
      "text/plain": [
       "(275, 6)"
      ]
     },
     "execution_count": 8,
     "metadata": {},
     "output_type": "execute_result"
    }
   ],
   "source": [
    "df.shape"
   ]
  },
  {
   "cell_type": "code",
   "execution_count": 9,
   "metadata": {},
   "outputs": [
    {
     "data": {
      "text/plain": [
       "275"
      ]
     },
     "execution_count": 9,
     "metadata": {},
     "output_type": "execute_result"
    }
   ],
   "source": [
    "len(df[\"x5\"].value_counts())"
   ]
  },
  {
   "attachments": {},
   "cell_type": "markdown",
   "metadata": {},
   "source": [
    "x5 variable contains only unique values - it is also numeric, not categorical variable <br><br>\n",
    "We can also observe that y has one missing value. <br>\n",
    "The percentage of missing data:"
   ]
  },
  {
   "cell_type": "code",
   "execution_count": 10,
   "metadata": {},
   "outputs": [
    {
     "data": {
      "text/plain": [
       "0.00364"
      ]
     },
     "execution_count": 10,
     "metadata": {},
     "output_type": "execute_result"
    }
   ],
   "source": [
    "round(df.y.isnull().sum()/len(df.y),5)"
   ]
  },
  {
   "attachments": {},
   "cell_type": "markdown",
   "metadata": {},
   "source": [
    "Because we are nowcasting the value of the INDPRO index, which is Industrial Production: Total Index of US, we can assume that the received data is a time series.<br>\n",
    "In that case we can not fulfill the missing data with mean or median value, because most likely the values ​​follow a certain trend over time. <br>\n",
    "We can see in second row the value of y much differs from mean or median y values. <br>\n",
    "I chose backfill method, which use next valid observation to fill gap."
   ]
  },
  {
   "cell_type": "code",
   "execution_count": 11,
   "metadata": {},
   "outputs": [],
   "source": [
    "df.y.fillna(method='bfill', inplace=True)"
   ]
  },
  {
   "attachments": {},
   "cell_type": "markdown",
   "metadata": {},
   "source": [
    "# Outliers"
   ]
  },
  {
   "cell_type": "code",
   "execution_count": 17,
   "metadata": {},
   "outputs": [
    {
     "data": {
      "image/png": "[encoded data removed]",
      "text/plain": [
       "<Figure size 1440x720 with 6 Axes>"
      ]
     },
     "metadata": {
      "needs_background": "light"
     },
     "output_type": "display_data"
    }
   ],
   "source": [
    "def graph_maker(variables):\n",
    "    plt.figure(figsize=(20,10))\n",
    "    for i in range(1,7):\n",
    "        plt.subplot(2,3,i)\n",
    "        plt.title(f'Visualization of {variables[i-1]} distribution')\n",
    "        ax = sns.boxplot(y=variables[i-1], data=df)\n",
    "\n",
    "variables_list = list(df.columns)        \n",
    "graph_maker(variables_list)"
   ]
  },
  {
   "attachments": {},
   "cell_type": "markdown",
   "metadata": {},
   "source": [
    "# Distribution of variables"
   ]
  },
  {
   "cell_type": "code",
   "execution_count": 18,
   "metadata": {},
   "outputs": [
    {
     "data": {
      "text/plain": [
       "array([[<AxesSubplot:title={'center':'y'}>,\n",
       "        <AxesSubplot:title={'center':'x1'}>],\n",
       "       [<AxesSubplot:title={'center':'x2'}>,\n",
       "        <AxesSubplot:title={'center':'x3'}>],\n",
       "       [<AxesSubplot:title={'center':'x4'}>,\n",
       "        <AxesSubplot:title={'center':'x5'}>]], dtype=object)"
      ]
     },
     "execution_count": 18,
     "metadata": {},
     "output_type": "execute_result"
    },
    {
     "data": {
      "image/png": "[encoded data removed]",
      "text/plain": [
       "<Figure size 1440x720 with 6 Axes>"
      ]
     },
     "metadata": {
      "needs_background": "light"
     },
     "output_type": "display_data"
    }
   ],
   "source": [
    "df.hist(bins=20, figsize=(20,10))"
   ]
  },
  {
   "cell_type": "code",
   "execution_count": 24,
   "metadata": {},
   "outputs": [
    {
     "data": {
      "image/png": "[encoded data removed]",
      "text/plain": [
       "<Figure size 864x144 with 7 Axes>"
      ]
     },
     "metadata": {
      "needs_background": "light"
     },
     "output_type": "display_data"
    }
   ],
   "source": [
    "ax = sns.pairplot(df, height=2, y_vars=\"y\")"
   ]
  },
  {
   "attachments": {},
   "cell_type": "markdown",
   "metadata": {},
   "source": [
    "The distribution of variables does not resemble a normal distribution. <br>\n",
    "I decided not to remove outliers from the dataset, because if it is a time series the outliers may not be accidental, but still a part of some trend just reaching its extreme. <br>\n",
    "We can see a prof of that in the last plot above, where the values ​​of the variable x5 are constantly increasing to reach extreme values."
   ]
  },
  {
   "attachments": {},
   "cell_type": "markdown",
   "metadata": {},
   "source": [
    "# Correlation matrix"
   ]
  },
  {
   "attachments": {},
   "cell_type": "markdown",
   "metadata": {},
   "source": [
    "A strong correlation of the explained variable y with the explanatory variables x1, x2, x3, x4 and x5 is visible. <br>\n",
    "Especially in the case of x5 variable. <br>\n",
    "There is much less correlation between explanatory variables, except for variables x1 and x3."
   ]
  },
  {
   "cell_type": "code",
   "execution_count": 25,
   "metadata": {},
   "outputs": [
    {
     "data": {
      "text/html": [
       "<style type=\"text/css\">\n",
       "#T_a2b61_row0_col0, #T_a2b61_row1_col1, #T_a2b61_row2_col2, #T_a2b61_row3_col3, #T_a2b61_row4_col4, #T_a2b61_row5_col5 {\n",
       "  background-color: #b40426;\n",
       "  color: #f1f1f1;\n",
       "}\n",
       "#T_a2b61_row0_col1 {\n",
       "  background-color: #f5c1a9;\n",
       "  color: #000000;\n",
       "}\n",
       "#T_a2b61_row0_col2, #T_a2b61_row2_col0, #T_a2b61_row2_col1, #T_a2b61_row2_col3, #T_a2b61_row2_col4, #T_a2b61_row2_col5 {\n",
       "  background-color: #3b4cc0;\n",
       "  color: #f1f1f1;\n",
       "}\n",
       "#T_a2b61_row0_col3 {\n",
       "  background-color: #ecd3c5;\n",
       "  color: #000000;\n",
       "}\n",
       "#T_a2b61_row0_col4 {\n",
       "  background-color: #ead5c9;\n",
       "  color: #000000;\n",
       "}\n",
       "#T_a2b61_row0_col5 {\n",
       "  background-color: #f59f80;\n",
       "  color: #000000;\n",
       "}\n",
       "#T_a2b61_row1_col0 {\n",
       "  background-color: #f7b396;\n",
       "  color: #000000;\n",
       "}\n",
       "#T_a2b61_row1_col2 {\n",
       "  background-color: #6180e9;\n",
       "  color: #f1f1f1;\n",
       "}\n",
       "#T_a2b61_row1_col3 {\n",
       "  background-color: #f4c5ad;\n",
       "  color: #000000;\n",
       "}\n",
       "#T_a2b61_row1_col4 {\n",
       "  background-color: #81a4fb;\n",
       "  color: #f1f1f1;\n",
       "}\n",
       "#T_a2b61_row1_col5 {\n",
       "  background-color: #e1dad6;\n",
       "  color: #000000;\n",
       "}\n",
       "#T_a2b61_row3_col0 {\n",
       "  background-color: #f7b194;\n",
       "  color: #000000;\n",
       "}\n",
       "#T_a2b61_row3_col1 {\n",
       "  background-color: #f7b093;\n",
       "  color: #000000;\n",
       "}\n",
       "#T_a2b61_row3_col2 {\n",
       "  background-color: #96b7ff;\n",
       "  color: #000000;\n",
       "}\n",
       "#T_a2b61_row3_col4 {\n",
       "  background-color: #a1c0ff;\n",
       "  color: #000000;\n",
       "}\n",
       "#T_a2b61_row3_col5 {\n",
       "  background-color: #d8dce2;\n",
       "  color: #000000;\n",
       "}\n",
       "#T_a2b61_row4_col0 {\n",
       "  background-color: #f5c4ac;\n",
       "  color: #000000;\n",
       "}\n",
       "#T_a2b61_row4_col1 {\n",
       "  background-color: #8fb1fe;\n",
       "  color: #000000;\n",
       "}\n",
       "#T_a2b61_row4_col2 {\n",
       "  background-color: #6f92f3;\n",
       "  color: #f1f1f1;\n",
       "}\n",
       "#T_a2b61_row4_col3 {\n",
       "  background-color: #7b9ff9;\n",
       "  color: #f1f1f1;\n",
       "}\n",
       "#T_a2b61_row4_col5 {\n",
       "  background-color: #d7dce3;\n",
       "  color: #000000;\n",
       "}\n",
       "#T_a2b61_row5_col0 {\n",
       "  background-color: #f49a7b;\n",
       "  color: #000000;\n",
       "}\n",
       "#T_a2b61_row5_col1 {\n",
       "  background-color: #d5dbe5;\n",
       "  color: #000000;\n",
       "}\n",
       "#T_a2b61_row5_col2 {\n",
       "  background-color: #485fd1;\n",
       "  color: #f1f1f1;\n",
       "}\n",
       "#T_a2b61_row5_col3 {\n",
       "  background-color: #a5c3fe;\n",
       "  color: #000000;\n",
       "}\n",
       "#T_a2b61_row5_col4 {\n",
       "  background-color: #c0d4f5;\n",
       "  color: #000000;\n",
       "}\n",
       "</style>\n",
       "<table id=\"T_a2b61\">\n",
       "  <thead>\n",
       "    <tr>\n",
       "      <th class=\"blank level0\" >&nbsp;</th>\n",
       "      <th id=\"T_a2b61_level0_col0\" class=\"col_heading level0 col0\" >y</th>\n",
       "      <th id=\"T_a2b61_level0_col1\" class=\"col_heading level0 col1\" >x1</th>\n",
       "      <th id=\"T_a2b61_level0_col2\" class=\"col_heading level0 col2\" >x2</th>\n",
       "      <th id=\"T_a2b61_level0_col3\" class=\"col_heading level0 col3\" >x3</th>\n",
       "      <th id=\"T_a2b61_level0_col4\" class=\"col_heading level0 col4\" >x4</th>\n",
       "      <th id=\"T_a2b61_level0_col5\" class=\"col_heading level0 col5\" >x5</th>\n",
       "    </tr>\n",
       "  </thead>\n",
       "  <tbody>\n",
       "    <tr>\n",
       "      <th id=\"T_a2b61_level0_row0\" class=\"row_heading level0 row0\" >y</th>\n",
       "      <td id=\"T_a2b61_row0_col0\" class=\"data row0 col0\" >1.000000</td>\n",
       "      <td id=\"T_a2b61_row0_col1\" class=\"data row0 col1\" >0.517881</td>\n",
       "      <td id=\"T_a2b61_row0_col2\" class=\"data row0 col2\" >-0.512093</td>\n",
       "      <td id=\"T_a2b61_row0_col3\" class=\"data row0 col3\" >0.525166</td>\n",
       "      <td id=\"T_a2b61_row0_col4\" class=\"data row0 col4\" >0.437336</td>\n",
       "      <td id=\"T_a2b61_row0_col5\" class=\"data row0 col5\" >0.619732</td>\n",
       "    </tr>\n",
       "    <tr>\n",
       "      <th id=\"T_a2b61_level0_row1\" class=\"row_heading level0 row1\" >x1</th>\n",
       "      <td id=\"T_a2b61_row1_col0\" class=\"data row1 col0\" >0.517881</td>\n",
       "      <td id=\"T_a2b61_row1_col1\" class=\"data row1 col1\" >1.000000</td>\n",
       "      <td id=\"T_a2b61_row1_col2\" class=\"data row1 col2\" >-0.325349</td>\n",
       "      <td id=\"T_a2b61_row1_col3\" class=\"data row1 col3\" >0.588092</td>\n",
       "      <td id=\"T_a2b61_row1_col4\" class=\"data row1 col4\" >0.014828</td>\n",
       "      <td id=\"T_a2b61_row1_col5\" class=\"data row1 col5\" >0.300803</td>\n",
       "    </tr>\n",
       "    <tr>\n",
       "      <th id=\"T_a2b61_level0_row2\" class=\"row_heading level0 row2\" >x2</th>\n",
       "      <td id=\"T_a2b61_row2_col0\" class=\"data row2 col0\" >-0.512093</td>\n",
       "      <td id=\"T_a2b61_row2_col1\" class=\"data row2 col1\" >-0.325349</td>\n",
       "      <td id=\"T_a2b61_row2_col2\" class=\"data row2 col2\" >1.000000</td>\n",
       "      <td id=\"T_a2b61_row2_col3\" class=\"data row2 col3\" >-0.093386</td>\n",
       "      <td id=\"T_a2b61_row2_col4\" class=\"data row2 col4\" >-0.260255</td>\n",
       "      <td id=\"T_a2b61_row2_col5\" class=\"data row2 col5\" >-0.444225</td>\n",
       "    </tr>\n",
       "    <tr>\n",
       "      <th id=\"T_a2b61_level0_row3\" class=\"row_heading level0 row3\" >x3</th>\n",
       "      <td id=\"T_a2b61_row3_col0\" class=\"data row3 col0\" >0.525166</td>\n",
       "      <td id=\"T_a2b61_row3_col1\" class=\"data row3 col1\" >0.588092</td>\n",
       "      <td id=\"T_a2b61_row3_col2\" class=\"data row3 col2\" >-0.093386</td>\n",
       "      <td id=\"T_a2b61_row3_col3\" class=\"data row3 col3\" >1.000000</td>\n",
       "      <td id=\"T_a2b61_row3_col4\" class=\"data row3 col4\" >0.128149</td>\n",
       "      <td id=\"T_a2b61_row3_col5\" class=\"data row3 col5\" >0.253498</td>\n",
       "    </tr>\n",
       "    <tr>\n",
       "      <th id=\"T_a2b61_level0_row4\" class=\"row_heading level0 row4\" >x4</th>\n",
       "      <td id=\"T_a2b61_row4_col0\" class=\"data row4 col0\" >0.437336</td>\n",
       "      <td id=\"T_a2b61_row4_col1\" class=\"data row4 col1\" >0.014828</td>\n",
       "      <td id=\"T_a2b61_row4_col2\" class=\"data row4 col2\" >-0.260255</td>\n",
       "      <td id=\"T_a2b61_row4_col3\" class=\"data row4 col3\" >0.128149</td>\n",
       "      <td id=\"T_a2b61_row4_col4\" class=\"data row4 col4\" >1.000000</td>\n",
       "      <td id=\"T_a2b61_row4_col5\" class=\"data row4 col5\" >0.245394</td>\n",
       "    </tr>\n",
       "    <tr>\n",
       "      <th id=\"T_a2b61_level0_row5\" class=\"row_heading level0 row5\" >x5</th>\n",
       "      <td id=\"T_a2b61_row5_col0\" class=\"data row5 col0\" >0.619732</td>\n",
       "      <td id=\"T_a2b61_row5_col1\" class=\"data row5 col1\" >0.300803</td>\n",
       "      <td id=\"T_a2b61_row5_col2\" class=\"data row5 col2\" >-0.444225</td>\n",
       "      <td id=\"T_a2b61_row5_col3\" class=\"data row5 col3\" >0.253498</td>\n",
       "      <td id=\"T_a2b61_row5_col4\" class=\"data row5 col4\" >0.245394</td>\n",
       "      <td id=\"T_a2b61_row5_col5\" class=\"data row5 col5\" >1.000000</td>\n",
       "    </tr>\n",
       "  </tbody>\n",
       "</table>\n"
      ],
      "text/plain": [
       "<pandas.io.formats.style.Styler at 0x2201a2e02e0>"
      ]
     },
     "execution_count": 25,
     "metadata": {},
     "output_type": "execute_result"
    }
   ],
   "source": [
    "df.corr().style.background_gradient(cmap='coolwarm')"
   ]
  },
  {
   "attachments": {},
   "cell_type": "markdown",
   "metadata": {},
   "source": [
    "# Dataset split into train and test sets"
   ]
  },
  {
   "cell_type": "code",
   "execution_count": 26,
   "metadata": {},
   "outputs": [],
   "source": [
    "y = df['y']\n",
    "X = df.drop('y', axis=1)\n",
    "X_train, X_test, y_train, y_test = train_test_split(X, y, test_size=0.30, random_state=42)"
   ]
  },
  {
   "attachments": {},
   "cell_type": "markdown",
   "metadata": {},
   "source": [
    "# Model selection"
   ]
  },
  {
   "attachments": {},
   "cell_type": "markdown",
   "metadata": {},
   "source": [
    "Models XGBRegressor, RandomForestRegressor and GradientBoostingRegressor gave the best results.<br>\n",
    "We chose XGBRegressor as the final model."
   ]
  },
  {
   "cell_type": "code",
   "execution_count": 32,
   "metadata": {},
   "outputs": [
    {
     "data": {
      "text/html": [
       "<div>\n",
       "<style scoped>\n",
       "    .dataframe tbody tr th:only-of-type {\n",
       "        vertical-align: middle;\n",
       "    }\n",
       "\n",
       "    .dataframe tbody tr th {\n",
       "        vertical-align: top;\n",
       "    }\n",
       "\n",
       "    .dataframe thead th {\n",
       "        text-align: right;\n",
       "    }\n",
       "</style>\n",
       "<table border=\"1\" class=\"dataframe\">\n",
       "  <thead>\n",
       "    <tr style=\"text-align: right;\">\n",
       "      <th></th>\n",
       "      <th>LinearRegression</th>\n",
       "      <th>DecisionTreeRegressor</th>\n",
       "      <th>RandomForestRegressor</th>\n",
       "      <th>GradientBoostingRegressor</th>\n",
       "      <th>XGBRegressor</th>\n",
       "    </tr>\n",
       "  </thead>\n",
       "  <tbody>\n",
       "    <tr>\n",
       "      <th>MAE</th>\n",
       "      <td>2.078885</td>\n",
       "      <td>1.289790</td>\n",
       "      <td>0.944545</td>\n",
       "      <td>0.981447</td>\n",
       "      <td>0.848892</td>\n",
       "    </tr>\n",
       "    <tr>\n",
       "      <th>MSE</th>\n",
       "      <td>7.613808</td>\n",
       "      <td>5.210338</td>\n",
       "      <td>2.402155</td>\n",
       "      <td>2.724804</td>\n",
       "      <td>1.744241</td>\n",
       "    </tr>\n",
       "    <tr>\n",
       "      <th>RMSE</th>\n",
       "      <td>2.759313</td>\n",
       "      <td>2.282616</td>\n",
       "      <td>1.549889</td>\n",
       "      <td>1.650698</td>\n",
       "      <td>1.320697</td>\n",
       "    </tr>\n",
       "    <tr>\n",
       "      <th>R2</th>\n",
       "      <td>0.638939</td>\n",
       "      <td>0.752916</td>\n",
       "      <td>0.886085</td>\n",
       "      <td>0.870785</td>\n",
       "      <td>0.917285</td>\n",
       "    </tr>\n",
       "  </tbody>\n",
       "</table>\n",
       "</div>"
      ],
      "text/plain": [
       "      LinearRegression  DecisionTreeRegressor  RandomForestRegressor  \\\n",
       "MAE           2.078885               1.289790               0.944545   \n",
       "MSE           7.613808               5.210338               2.402155   \n",
       "RMSE          2.759313               2.282616               1.549889   \n",
       "R2            0.638939               0.752916               0.886085   \n",
       "\n",
       "      GradientBoostingRegressor  XGBRegressor  \n",
       "MAE                    0.981447      0.848892  \n",
       "MSE                    2.724804      1.744241  \n",
       "RMSE                   1.650698      1.320697  \n",
       "R2                     0.870785      0.917285  "
      ]
     },
     "execution_count": 32,
     "metadata": {},
     "output_type": "execute_result"
    }
   ],
   "source": [
    "def model_stats(models):\n",
    "    colnames = ['LinearRegression', 'DecisionTreeRegressor', 'RandomForestRegressor', 'GradientBoostingRegressor', 'XGBRegressor']\n",
    "    indices = ['MAE', 'MSE', 'RMSE', 'R2']\n",
    "    df_scores = pd.DataFrame(index = indices, columns = colnames)\n",
    "    for i in range(0,5):\n",
    "        model_scores = []\n",
    "        model = models[i]\n",
    "        model.fit(X_train, y_train)\n",
    "        y_pred = model.predict(X_test)\n",
    "        mae = mean_absolute_error(y_test, y_pred)\n",
    "        mse = mean_squared_error(y_test, y_pred)\n",
    "        rmse = np.sqrt(mean_squared_error(y_test, y_pred))\n",
    "        r2 = r2_score(y_test, y_pred)\n",
    "        one_model_score = [mae, mse, rmse, r2]\n",
    "        df_scores[colnames[i]] = one_model_score\n",
    "    return df_scores\n",
    "\n",
    "models_list = [LinearRegression(), DecisionTreeRegressor(), RandomForestRegressor(), GradientBoostingRegressor(), XGBRegressor()]\n",
    "model_stats(models_list)"
   ]
  },
  {
   "attachments": {},
   "cell_type": "markdown",
   "metadata": {},
   "source": [
    "# Final model"
   ]
  },
  {
   "attachments": {},
   "cell_type": "markdown",
   "metadata": {},
   "source": [
    "After changing a few parameters of the final model, a slight improvement was achieved."
   ]
  },
  {
   "cell_type": "code",
   "execution_count": 40,
   "metadata": {},
   "outputs": [
    {
     "name": "stdout",
     "output_type": "stream",
     "text": [
      "MAE: 0.8465455866434487\n",
      "MSE: 1.7398056763532792\n",
      "RMSE: 1.3190169355824357\n",
      "R2: 0.9174950681466147\n"
     ]
    }
   ],
   "source": [
    "final_model = XGBRegressor(n_estimators=68, num_parallel_tree = 2)\n",
    "final_model.fit(X_train, y_train)\n",
    "y_pred = final_model.predict(X_test)\n",
    "print(\"MAE:\", mean_absolute_error(y_test, y_pred))\n",
    "print(\"MSE:\", mean_squared_error(y_test, y_pred))\n",
    "print(\"RMSE:\", np.sqrt(mean_squared_error(y_test, y_pred)))\n",
    "print(\"R2:\", r2_score(y_test, y_pred))"
   ]
  },
  {
   "attachments": {},
   "cell_type": "markdown",
   "metadata": {},
   "source": [
    "# Cross validation"
   ]
  },
  {
   "cell_type": "code",
   "execution_count": 35,
   "metadata": {},
   "outputs": [
    {
     "name": "stdout",
     "output_type": "stream",
     "text": [
      "RMSE Scores:  [7.57776066 4.05551753 1.96109792 5.04602869 3.41104678 7.19264414\n",
      " 2.98648512 2.71082383 1.99744212 1.79107114]\n"
     ]
    }
   ],
   "source": [
    "scores = cross_val_score(final_model, X, y, cv=10, scoring='neg_mean_squared_error')\n",
    "final_model_rmse_scores = np.sqrt(-scores)\n",
    "print(\"RMSE Scores: \", final_model_rmse_scores)"
   ]
  },
  {
   "attachments": {},
   "cell_type": "markdown",
   "metadata": {},
   "source": [
    "# Feature importances"
   ]
  },
  {
   "cell_type": "code",
   "execution_count": 36,
   "metadata": {},
   "outputs": [
    {
     "data": {
      "text/plain": [
       "x5    0.419024\n",
       "x4    0.201608\n",
       "x2    0.148070\n",
       "x1    0.136377\n",
       "x3    0.094920\n",
       "dtype: float32"
      ]
     },
     "execution_count": 36,
     "metadata": {},
     "output_type": "execute_result"
    }
   ],
   "source": [
    "importances = pd.Series(data=final_model.feature_importances_, index=X_train.columns)\n",
    "importances[importances > 0].sort_values(ascending=False)"
   ]
  },
  {
   "cell_type": "code",
   "execution_count": 45,
   "metadata": {},
   "outputs": [
    {
     "data": {
      "image/png": "[encoded data removed]",
      "text/plain": [
       "<Figure size 432x288 with 1 Axes>"
      ]
     },
     "metadata": {
      "needs_background": "light"
     },
     "output_type": "display_data"
    }
   ],
   "source": [
    "importance_df = pd.DataFrame(importances[importances > 0].sort_values(ascending=False).items(), columns=[\"feature\", \"importance\"])\n",
    "ax = sns.barplot(data=importance_df, x=\"importance\", y=\"feature\").set(title = \"Importance of features\")"
   ]
  },
  {
   "attachments": {},
   "cell_type": "markdown",
   "metadata": {},
   "source": [
    "As we can see in the plot above, the feature that best describes variable y was x5 and the least x3."
   ]
  },
  {
   "attachments": {},
   "cell_type": "markdown",
   "metadata": {},
   "source": [
    "# Saving model"
   ]
  },
  {
   "cell_type": "code",
   "execution_count": null,
   "metadata": {},
   "outputs": [],
   "source": [
    "joblib.dump(final_model, \"final_model.pkl\")"
   ]
  }
 ],
 "metadata": {
  "kernelspec": {
   "display_name": "Python 3",
   "language": "python",
   "name": "python3"
  },
  "language_info": {
   "codemirror_mode": {
    "name": "ipython",
    "version": 3
   },
   "file_extension": ".py",
   "mimetype": "text/x-python",
   "name": "python",
   "nbconvert_exporter": "python",
   "pygments_lexer": "ipython3",
   "version": "3.10.9"
  },
  "orig_nbformat": 4,
  "vscode": {
   "interpreter": {
    "hash": "df0d9d1dfdae1878e08b23f37cd57a9185f71e99aeccdea6c8283b8dee13633a"
   }
  }
 },
 "nbformat": 4,
 "nbformat_minor": 2
}
